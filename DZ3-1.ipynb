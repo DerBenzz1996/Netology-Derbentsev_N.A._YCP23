{
 "cells": [
  {
   "cell_type": "code",
   "execution_count": 2,
   "id": "eac9e279-b80c-4959-af6c-4f80c4f851e0",
   "metadata": {
    "tags": []
   },
   "outputs": [
    {
     "name": "stdout",
     "output_type": "stream",
     "text": [
      "нетология - л\n"
     ]
    }
   ],
   "source": [
    "# Определяем функцию для получения средних букв слова\n",
    "def get_middle_letters(word):\n",
    "    length = len(word)  # Получаем длину слова\n",
    "    \n",
    "    # Проверяем, четное или нечетное количество букв\n",
    "    if length % 2 == 0:  # Четное количество букв\n",
    "        middle_index = length // 2\n",
    "        return word[middle_index - 1:middle_index + 1]  # Две средние буквы\n",
    "    else:  # Нечетное количество букв\n",
    "        middle_index = length // 2\n",
    "        return word[middle_index]  # Одна средняя буква\n",
    "\n",
    "# Вводим слово\n",
    "word = 'нетология'  # Замените это значение на нужное вам слово\n",
    "\n",
    "# Получаем и выводим результат\n",
    "result = get_middle_letters(word)\n",
    "print(f\"{word} - {result}\")"
   ]
  },
  {
   "cell_type": "code",
   "execution_count": 3,
   "id": "31747939-3c23-434b-8776-fbfc408a4a85",
   "metadata": {
    "tags": []
   },
   "outputs": [
    {
     "name": "stdout",
     "output_type": "stream",
     "text": [
      "python - th\n"
     ]
    }
   ],
   "source": [
    "# Определяем функцию для получения средних букв слова\n",
    "def get_middle_letters(word):\n",
    "    length = len(word)  # Получаем длину слова\n",
    "    \n",
    "    # Проверяем, четное или нечетное количество букв\n",
    "    if length % 2 == 0:  # Четное количество букв\n",
    "        middle_index = length // 2\n",
    "        return word[middle_index - 1:middle_index + 1]  # Две средние буквы\n",
    "    else:  # Нечетное количество букв\n",
    "        middle_index = length // 2\n",
    "        return word[middle_index]  # Одна средняя буква\n",
    "\n",
    "# Вводим слово\n",
    "word = 'python'  # Замените это значение на нужное вам слово\n",
    "\n",
    "# Получаем и выводим результат\n",
    "result = get_middle_letters(word)\n",
    "print(f\"{word} - {result}\")"
   ]
  },
  {
   "cell_type": "code",
   "execution_count": null,
   "id": "7f0882cc-03eb-479a-9118-a7a6e970c7ad",
   "metadata": {},
   "outputs": [],
   "source": []
  }
 ],
 "metadata": {
  "kernelspec": {
   "display_name": "Python 3",
   "language": "python",
   "name": "python3"
  },
  "language_info": {
   "codemirror_mode": {
    "name": "ipython",
    "version": 3
   },
   "file_extension": ".py",
   "mimetype": "text/x-python",
   "name": "python",
   "nbconvert_exporter": "python",
   "pygments_lexer": "ipython3",
   "version": "3.7.2"
  }
 },
 "nbformat": 4,
 "nbformat_minor": 5
}
