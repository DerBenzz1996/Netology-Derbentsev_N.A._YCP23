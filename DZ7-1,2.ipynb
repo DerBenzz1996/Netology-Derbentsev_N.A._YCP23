{
 "cells": [
  {
   "cell_type": "code",
   "execution_count": null,
   "id": "dabf16ab-80a7-42a9-9142-ac19d9c6d9f8",
   "metadata": {},
   "outputs": [],
   "source": [
    "import pandas as pd\n",
    "import seaborn as sns\n",
    "import matplotlib.pyplot as plt\n",
    "import plotly.express as px\n",
    "\n",
    "# Функция для загрузки данных из CSV\n",
    "def load_data(file_path):\n",
    "    return pd.read_csv(file_path)\n",
    "\n",
    "# Функция для отображения диаграммы разброса с Seaborn\n",
    "def plot_scatter_seaborn(data):\n",
    "    plt.figure(figsize=(10, 6))\n",
    "    sns.scatterplot(x='Age', y='Expenditure', data=data)\n",
    "    plt.title('Диаграмма разброса: Возраст клиента vs Расходы')\n",
    "    plt.xlabel('Возраст клиента')\n",
    "    plt.ylabel('Расходы')\n",
    "    plt.show()\n",
    "\n",
    "# Функция для отображения диаграммы разброса с Plotly\n",
    "def plot_scatter_plotly(data):\n",
    "    fig = px.scatter(data, x='Age', y='Expenditure', title='Диаграмма разброса: Возраст клиента vs Расходы')\n",
    "    fig.show()\n",
    "\n",
    "# Функция для отображения линии регрессии с Seaborn\n",
    "def plot_regression(data):\n",
    "    plt.figure(figsize=(10, 6))\n",
    "    sns.regplot(x='Age', y='Expenditure', data=data)\n",
    "    plt.title('Линия регрессии: Возраст клиента vs Расходы')\n",
    "    plt.xlabel('Возраст клиента')\n",
    "    plt.ylabel('Расходы')\n",
    "    plt.show()\n",
    "\n",
    "# Основная функция для выполнения заданий\n",
    "def main():\n",
    "    # Загрузка данных\n",
    "    data = load_data('web_clients_correct.csv')\n",
    "\n",
    "    # Задание 1: Диаграмма разброса с Seaborn и Plotly\n",
    "    plot_scatter_seaborn(data)\n",
    "    plot_scatter_plotly(data)\n",
    "\n",
    "    # Задание 2: Линия регрессии с Seaborn\n",
    "    plot_regression(data)\n",
    "\n",
    "# Запуск программы\n",
    "if __name__ == \"__main__\":\n",
    "    main()"
   ]
  }
 ],
 "metadata": {
  "kernelspec": {
   "display_name": "Python 3",
   "language": "python",
   "name": "python3"
  },
  "language_info": {
   "codemirror_mode": {
    "name": "ipython",
    "version": 3
   },
   "file_extension": ".py",
   "mimetype": "text/x-python",
   "name": "python",
   "nbconvert_exporter": "python",
   "pygments_lexer": "ipython3",
   "version": "3.7.2"
  }
 },
 "nbformat": 4,
 "nbformat_minor": 5
}
