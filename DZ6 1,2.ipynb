{
 "cells": [
  {
   "cell_type": "code",
   "execution_count": null,
   "id": "3b479cef-72ac-48c2-8c79-1d3b03b9f42f",
   "metadata": {},
   "outputs": [],
   "source": [
    "def main():\n",
    "    # Загрузка данных\n",
    "    file_path = 'web_clients_correct.csv'\n",
    "    data = load_data(file_path)\n",
    "\n",
    "    # Задание 1: Анализ возраста\n",
    "    age_analysis = analyze_age(data)\n",
    "    print(\"Результаты анализа возраста:\")\n",
    "    print(age_analysis)\n",
    "\n",
    "    # Задание 2: Фильтрация данных\n",
    "    filtered_data = filter_data(data)\n",
    "    print(\"\\nОтфильтрованные данные (мужчины старше 30):\")\n",
    "    print(filtered_data)\n",
    "\n",
    "# Запуск основной функции\n",
    "if __name__ == \"__main__\":\n",
    "    main()"
   ]
  },
  {
   "cell_type": "code",
   "execution_count": null,
   "id": "2eb56a47-559c-442a-b27b-e058fc29745a",
   "metadata": {},
   "outputs": [],
   "source": []
  }
 ],
 "metadata": {
  "kernelspec": {
   "display_name": "Python 3",
   "language": "python",
   "name": "python3"
  },
  "language_info": {
   "codemirror_mode": {
    "name": "ipython",
    "version": 3
   },
   "file_extension": ".py",
   "mimetype": "text/x-python",
   "name": "python",
   "nbconvert_exporter": "python",
   "pygments_lexer": "ipython3",
   "version": "3.7.2"
  }
 },
 "nbformat": 4,
 "nbformat_minor": 5
}
