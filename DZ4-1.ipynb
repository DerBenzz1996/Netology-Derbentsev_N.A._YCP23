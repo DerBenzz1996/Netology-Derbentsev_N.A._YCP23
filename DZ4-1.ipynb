{
 "cells": [
  {
   "cell_type": "code",
   "execution_count": null,
   "id": "0735b6e2-dd23-494d-a313-90419ccc9f02",
   "metadata": {
    "tags": []
   },
   "outputs": [
    {
     "name": "stdin",
     "output_type": "stream",
     "text": [
      "Введите команду (p для поиска владельца, q для выхода):  p\n",
      "Введите номер документа:  10006\n"
     ]
    },
    {
     "name": "stdout",
     "output_type": "stream",
     "text": [
      "Владелец документа: Аристарх Павлов\n"
     ]
    }
   ],
   "source": [
    "# Исходные данные\n",
    "documents = [\n",
    "    {'type': 'passport', 'number': '2207 876234', 'name': 'Василий Гупкин'},\n",
    "    {'type': 'invoice', 'number': '11-2', 'name': 'Геннадий Покемонов'},\n",
    "    {'type': 'insurance', 'number': '10006', 'name': 'Аристарх Павлов'}\n",
    "]\n",
    "\n",
    "directories = {\n",
    "    '1': ['2207 876234', '11-2'],\n",
    "    '2': ['10006'],\n",
    "    '3': []\n",
    "}\n",
    "\n",
    "# Функция для поиска владельца документа по номеру\n",
    "def find_owner_by_document_number(doc_number):\n",
    "    for document in documents:\n",
    "        if document['number'] == doc_number:\n",
    "            return document['name']\n",
    "    return None\n",
    "\n",
    "# Основная функция для обработки команд\n",
    "def main():\n",
    "    while True:\n",
    "        command = input(\"Введите команду (p для поиска владельца, q для выхода): \").strip().lower()\n",
    "        \n",
    "        if command == 'q':\n",
    "            print(\"Выход из программы.\")\n",
    "            break\n",
    "        \n",
    "        elif command == 'p':\n",
    "            doc_number = input(\"Введите номер документа: \").strip()\n",
    "            owner = find_owner_by_document_number(doc_number)\n",
    "            \n",
    "            if owner:\n",
    "                print(f\"Владелец документа: {owner}\")\n",
    "            else:\n",
    "                print(\"Документ не найден.\")\n",
    "\n",
    "# Запуск основной функции\n",
    "if __name__ == \"__main__\":\n",
    "    main()"
   ]
  },
  {
   "cell_type": "code",
   "execution_count": null,
   "id": "0988a8c0-b324-4b0f-89ee-7340dfd86ef6",
   "metadata": {},
   "outputs": [],
   "source": []
  }
 ],
 "metadata": {
  "kernelspec": {
   "display_name": "Python 3",
   "language": "python",
   "name": "python3"
  },
  "language_info": {
   "codemirror_mode": {
    "name": "ipython",
    "version": 3
   },
   "file_extension": ".py",
   "mimetype": "text/x-python",
   "name": "python",
   "nbconvert_exporter": "python",
   "pygments_lexer": "ipython3",
   "version": "3.7.2"
  }
 },
 "nbformat": 4,
 "nbformat_minor": 5
}
