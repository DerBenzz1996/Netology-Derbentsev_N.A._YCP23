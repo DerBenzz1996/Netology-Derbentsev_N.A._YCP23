{
 "cells": [
  {
   "cell_type": "code",
   "execution_count": 1,
   "id": "8bd67e51-2dad-4e3c-b1a7-62fa4e865c05",
   "metadata": {
    "tags": []
   },
   "outputs": [
    {
     "name": "stdout",
     "output_type": "stream",
     "text": [
      "2024 - Високосный год\n"
     ]
    }
   ],
   "source": [
    "# Определяем функцию для проверки високосного года\n",
    "def is_leap_year(year):\n",
    "    if (year % 4 == 0 and year % 100 != 0) or (year % 400 == 0):\n",
    "        return True\n",
    "    else:\n",
    "        return False\n",
    "\n",
    "# Вводим год\n",
    "year = 2024  # Замените это значение на нужный вам год\n",
    "\n",
    "# Проверяем и выводим результат\n",
    "if is_leap_year(year):\n",
    "    print(f\"{year} - Високосный год\")\n",
    "else:\n",
    "    print(f\"{year} - Обычный год\")"
   ]
  },
  {
   "cell_type": "code",
   "execution_count": 2,
   "id": "b50af24f-95b8-4acb-905c-2c159e85b6ec",
   "metadata": {
    "tags": []
   },
   "outputs": [
    {
     "name": "stdout",
     "output_type": "stream",
     "text": [
      "2022 - Обычный год\n"
     ]
    }
   ],
   "source": [
    "# Определяем функцию для проверки високосного года\n",
    "def is_leap_year(year):\n",
    "    if (year % 4 == 0 and year % 100 != 0) or (year % 400 == 0):\n",
    "        return True\n",
    "    else:\n",
    "        return False\n",
    "\n",
    "# Вводим год\n",
    "year = 2022  # Замените это значение на нужный вам год\n",
    "\n",
    "# Проверяем и выводим результат\n",
    "if is_leap_year(year):\n",
    "    print(f\"{year} - Високосный год\")\n",
    "else:\n",
    "    print(f\"{year} - Обычный год\")"
   ]
  },
  {
   "cell_type": "code",
   "execution_count": 3,
   "id": "43880a11-6f01-45cc-865d-5dd9fa3b49b3",
   "metadata": {
    "tags": []
   },
   "outputs": [
    {
     "name": "stdout",
     "output_type": "stream",
     "text": [
      "2025 - Обычный год\n"
     ]
    }
   ],
   "source": [
    "# Определяем функцию для проверки високосного года\n",
    "def is_leap_year(year):\n",
    "    if (year % 4 == 0 and year % 100 != 0) or (year % 400 == 0):\n",
    "        return True\n",
    "    else:\n",
    "        return False\n",
    "\n",
    "# Вводим год\n",
    "year = 2025  # Замените это значение на нужный вам год\n",
    "\n",
    "# Проверяем и выводим результат\n",
    "if is_leap_year(year):\n",
    "    print(f\"{year} - Високосный год\")\n",
    "else:\n",
    "    print(f\"{year} - Обычный год\")"
   ]
  },
  {
   "cell_type": "code",
   "execution_count": null,
   "id": "d97859c6-72be-4df2-9255-56b1aaaad6ca",
   "metadata": {},
   "outputs": [],
   "source": []
  }
 ],
 "metadata": {
  "kernelspec": {
   "display_name": "Python 3",
   "language": "python",
   "name": "python3"
  },
  "language_info": {
   "codemirror_mode": {
    "name": "ipython",
    "version": 3
   },
   "file_extension": ".py",
   "mimetype": "text/x-python",
   "name": "python",
   "nbconvert_exporter": "python",
   "pygments_lexer": "ipython3",
   "version": "3.7.2"
  }
 },
 "nbformat": 4,
 "nbformat_minor": 5
}
