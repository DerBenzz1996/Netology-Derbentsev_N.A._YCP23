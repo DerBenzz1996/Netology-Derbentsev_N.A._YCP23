{
 "cells": [
  {
   "cell_type": "code",
   "execution_count": null,
   "id": "5c59ea15-40b9-4af1-bd01-79273392c72b",
   "metadata": {
    "tags": []
   },
   "outputs": [
    {
     "ename": "",
     "evalue": "",
     "output_type": "error",
     "traceback": [
      "\u001b[1;31mRunning cells with 'Python 3.11.9' requires the ipykernel package.\n",
      "\u001b[1;31mRun the following command to install 'ipykernel' into the Python environment. \n",
      "\u001b[1;31mCommand: 'c:/Users/Huawei-Derbenz/AppData/Local/Microsoft/WindowsApps/python3.11.exe -m pip install ipykernel -U --user --force-reinstall'"
     ]
    }
   ],
   "source": [
    "# Определяем функцию для проверки счастливого билета\n",
    "def is_lucky_ticket(number):\n",
    "    # Преобразуем номер в строку для удобного доступа к цифрам\n",
    "    str_number = str(number)\n",
    "    \n",
    "    # Проверяем, что номер состоит из 6 цифр\n",
    "    if len(str_number) != 6 or not str_number.isdigit():\n",
    "        return \"Номер билета должен быть шестизначным.\"\n",
    "\n",
    "    # Вычисляем сумму первых трех и последних трех цифр\n",
    "    first_half_sum = sum(int(digit) for digit in str_number[:3])\n",
    "    second_half_sum = sum(int(digit) for digit in str_number[3:])\n",
    "    \n",
    "    # Сравниваем суммы и возвращаем результат\n",
    "    if first_half_sum == second_half_sum:\n",
    "        return \"Счастливый билет\"\n",
    "    else:\n",
    "        return \"Несчастливый билет\"\n",
    "\n",
    "# Вводим номер билета\n",
    "number = 123321  # Замените это значение на нужный вам номер\n",
    "\n",
    "# Проверяем и выводим результат\n",
    "result = is_lucky_ticket(number)\n",
    "print(f\"{number} - {result}\")"
   ]
  },
  {
   "cell_type": "code",
   "execution_count": null,
   "id": "2b6c21c3-bb65-49b4-b1bd-700f0e4a7274",
   "metadata": {
    "tags": []
   },
   "outputs": [],
   "source": [
    "# Определяем функцию для проверки счастливого билета\n",
    "def is_lucky_ticket(number):\n",
    "    # Преобразуем номер в строку для удобного доступа к цифрам\n",
    "    str_number = str(number)\n",
    "    \n",
    "    # Проверяем, что номер состоит из 6 цифр\n",
    "    if len(str_number) != 6 or not str_number.isdigit():\n",
    "        return \"Номер билета должен быть шестизначным.\"\n",
    "\n",
    "    # Вычисляем сумму первых трех и последних трех цифр\n",
    "    first_half_sum = sum(int(digit) for digit in str_number[:3])\n",
    "    second_half_sum = sum(int(digit) for digit in str_number[3:])\n",
    "    \n",
    "    # Сравниваем суммы и возвращаем результат\n",
    "    if first_half_sum == second_half_sum:\n",
    "        return \"Счастливый билет\"\n",
    "    else:\n",
    "        return \"Несчастливый билет\"\n",
    "\n",
    "# Вводим номер билета\n",
    "number = 123422  # Замените это значение на нужный вам номер\n",
    "\n",
    "# Проверяем и выводим результат\n",
    "result = is_lucky_ticket(number)\n",
    "print(f\"{number} - {result}\")"
   ]
  },
  {
   "cell_type": "code",
   "execution_count": null,
   "id": "1ddb7b9f-b231-4c25-a97a-aec0656b810d",
   "metadata": {},
   "outputs": [],
   "source": []
  }
 ],
 "metadata": {
  "kernelspec": {
   "display_name": "Python 3",
   "language": "python",
   "name": "python3"
  },
  "language_info": {
   "codemirror_mode": {
    "name": "ipython",
    "version": 3
   },
   "file_extension": ".py",
   "mimetype": "text/x-python",
   "name": "python",
   "nbconvert_exporter": "python",
   "pygments_lexer": "ipython3",
   "version": "3.11.9"
  }
 },
 "nbformat": 4,
 "nbformat_minor": 5
}
