{
 "cells": [
  {
   "cell_type": "code",
   "execution_count": 1,
   "id": "f5d7964f-3cf4-4484-902a-9fca062845cf",
   "metadata": {
    "tags": []
   },
   "outputs": [
    {
     "ename": "FileNotFoundError",
     "evalue": "[Errno 2] No such file or directory: 'purchases.csv'",
     "output_type": "error",
     "traceback": [
      "\u001b[1;31m---------------------------------------------------------------------------\u001b[0m",
      "\u001b[1;31mFileNotFoundError\u001b[0m                         Traceback (most recent call last)",
      "\u001b[1;32m<ipython-input-1-72c33b153ea9>\u001b[0m in \u001b[0;36m<module>\u001b[1;34m\u001b[0m\n\u001b[0;32m      5\u001b[0m \u001b[1;33m\u001b[0m\u001b[0m\n\u001b[0;32m      6\u001b[0m \u001b[1;31m# Чтение файла с покупками и заполнение словаря\u001b[0m\u001b[1;33m\u001b[0m\u001b[1;33m\u001b[0m\u001b[1;33m\u001b[0m\u001b[0m\n\u001b[1;32m----> 7\u001b[1;33m \u001b[1;32mwith\u001b[0m \u001b[0mopen\u001b[0m\u001b[1;33m(\u001b[0m\u001b[1;34m'purchases.csv'\u001b[0m\u001b[1;33m,\u001b[0m \u001b[0mmode\u001b[0m\u001b[1;33m=\u001b[0m\u001b[1;34m'r'\u001b[0m\u001b[1;33m,\u001b[0m \u001b[0mencoding\u001b[0m\u001b[1;33m=\u001b[0m\u001b[1;34m'utf-8'\u001b[0m\u001b[1;33m)\u001b[0m \u001b[1;32mas\u001b[0m \u001b[0mpurchases_file\u001b[0m\u001b[1;33m:\u001b[0m\u001b[1;33m\u001b[0m\u001b[1;33m\u001b[0m\u001b[0m\n\u001b[0m\u001b[0;32m      8\u001b[0m     \u001b[0mreader\u001b[0m \u001b[1;33m=\u001b[0m \u001b[0mcsv\u001b[0m\u001b[1;33m.\u001b[0m\u001b[0mDictReader\u001b[0m\u001b[1;33m(\u001b[0m\u001b[0mpurchases_file\u001b[0m\u001b[1;33m)\u001b[0m\u001b[1;33m\u001b[0m\u001b[1;33m\u001b[0m\u001b[0m\n\u001b[0;32m      9\u001b[0m     \u001b[1;32mfor\u001b[0m \u001b[0mrow\u001b[0m \u001b[1;32min\u001b[0m \u001b[0mreader\u001b[0m\u001b[1;33m:\u001b[0m\u001b[1;33m\u001b[0m\u001b[1;33m\u001b[0m\u001b[0m\n",
      "\u001b[1;31mFileNotFoundError\u001b[0m: [Errno 2] No such file or directory: 'purchases.csv'"
     ]
    }
   ],
   "source": [
    "import csv\n",
    "\n",
    "# Словарь для хранения категорий покупок по user_id\n",
    "purchase_categories = {}\n",
    "\n",
    "# Чтение файла с покупками и заполнение словаря\n",
    "with open('purchases.csv', mode='r', encoding='utf-8') as purchases_file:\n",
    "    reader = csv.DictReader(purchases_file)\n",
    "    for row in reader:\n",
    "        user_id = row['user_id']\n",
    "        category = row['category']\n",
    "        purchase_categories[user_id] = category\n",
    "\n",
    "# Запись результатов в новый файл funnel.csv\n",
    "with open('visit_log.csv', mode='r', encoding='utf-8') as visit_file, \\\n",
    "     open('funnel.csv', mode='w', encoding='utf-8', newline='') as funnel_file:\n",
    "    \n",
    "    # Создаем объект writer для записи в funnel.csv\n",
    "    writer = csv.writer(funnel_file)\n",
    "    \n",
    "    # Записываем заголовок\n",
    "    writer.writerow(['user_id', 'source', 'category'])\n",
    "    \n",
    "    # Читаем visit_log построчно и записываем результаты\n",
    "    reader = csv.DictReader(visit_file)\n",
    "    for row in reader:\n",
    "        user_id = row['user_id']\n",
    "        source = row['source']\n",
    "        \n",
    "        # Проверяем, есть ли категория покупки для данного user_id\n",
    "        if user_id in purchase_categories:\n",
    "            category = purchase_categories[user_id]\n",
    "            # Записываем в funnel.csv только те строки, где была покупка\n",
    "            writer.writerow([user_id, source, category])"
   ]
  },
  {
   "cell_type": "code",
   "execution_count": null,
   "id": "ed036603-bc73-4cb0-9e6b-cd2771721794",
   "metadata": {},
   "outputs": [],
   "source": []
  }
 ],
 "metadata": {
  "kernelspec": {
   "display_name": "Python 3",
   "language": "python",
   "name": "python3"
  },
  "language_info": {
   "codemirror_mode": {
    "name": "ipython",
    "version": 3
   },
   "file_extension": ".py",
   "mimetype": "text/x-python",
   "name": "python",
   "nbconvert_exporter": "python",
   "pygments_lexer": "ipython3",
   "version": "3.7.2"
  }
 },
 "nbformat": 4,
 "nbformat_minor": 5
}
